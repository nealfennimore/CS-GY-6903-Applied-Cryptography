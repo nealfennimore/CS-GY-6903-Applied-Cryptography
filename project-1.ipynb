{
 "cells": [
  {
   "cell_type": "markdown",
   "metadata": {},
   "source": [
    "# Problem1: Affine Cipher\n",
    "\n",
    "> Affine cipher is a type of monoalphabetic substitution cipher that uses modular arithmetic to encrypt the letters of a message. The mathematical module formula is c = ap + b mod n where input p is plaintext, the output c is the ciphertext, n is a modular integer, a and b are non-negative integers less than n, a and n are relatively prime (to do decryption). We assume all the letters are encoded to unique integers."
   ]
  },
  {
   "cell_type": "markdown",
   "metadata": {},
   "source": [
    "## 1a\n",
    "\n",
    "> Describe affine cipher in more detail"
   ]
  },
  {
   "cell_type": "markdown",
   "metadata": {},
   "source": [
    "## 1b\n",
    "> What is the size of key space for a fixed integer n? Hint: Use Euler's totient Φ(n)"
   ]
  },
  {
   "cell_type": "markdown",
   "metadata": {},
   "source": [
    "## 1c\n",
    "\n",
    "> Let us assume the plaintext is made of 26 capital letters only. So, the $n=26$. Given the affine cipher $c = 5p + 9 \\mod 26$, what is the ciphertext for the plaintext “CRYPTO IS FUN”. Here we keep space as is\n",
    "\n",
    "The ciphertext is `TQZGAB XV IFW`"
   ]
  },
  {
   "cell_type": "code",
   "execution_count": 31,
   "metadata": {},
   "outputs": [],
   "source": [
    "import string\n",
    "from typing import List, Tuple\n",
    "\n",
    "Coefficients = Tuple[int, int]\n",
    "Keyspace = List[str]\n",
    "\n",
    "def check_assertions(n: int, a: int, b: int):\n",
    "    if a < 0 or b < 0 or a >= n or b >= n:\n",
    "        raise ValueError(f'a and b must be non-negative and less than {n}')\n",
    "\n",
    "def encrypt(plaintext: str, coefficients: Coefficients, keyspace: Keyspace) -> str:\n",
    "    n = len(keyspace)\n",
    "    a, b = coefficients\n",
    "    check_assertions(n, a, b)\n",
    "\n",
    "    plaintext_words: List[str] = plaintext.split(' ')\n",
    "    ciphertext_words: List[str] = []\n",
    "\n",
    "    for word in plaintext_words:\n",
    "        indicies = [ keyspace.index(p) for p in word ]\n",
    "        ciphertext_words.append(\n",
    "            ''.join(keyspace[(a * idx + b) % n] for idx in indicies)\n",
    "        )\n",
    "\n",
    "    return ' '.join(ciphertext_words)\n",
    "\n",
    "def decrypt(ciphertext: str, coefficients: Coefficients, keyspace: Keyspace) -> str:\n",
    "    n = len(keyspace)\n",
    "    a, b = coefficients\n",
    "    check_assertions(n, a, b)\n",
    "    \n",
    "    def inverse(a, n) -> int:\n",
    "        import math\n",
    "\n",
    "        possible = [ a for a in range(n) if math.gcd(a, n) == 1]\n",
    "        for p in possible:\n",
    "            if (a * p) % n == 1:\n",
    "                return p\n",
    "            \n",
    "        raise ValueError(f'No inverse for {a} mod {n}')\n",
    "    \n",
    "    ciphertext_words: List[str] = ciphertext.split(' ')\n",
    "    plaintext_words: List[str] = []\n",
    "    a_inverse = inverse(a, n)\n",
    "\n",
    "    for word in ciphertext_words:\n",
    "        indicies = [ keyspace.index(p) for p in word ]\n",
    "        plaintext_words.append(\n",
    "            ''.join(keyspace[(a_inverse * (idx - b)) % n] for idx in indicies)\n",
    "        )\n",
    "\n",
    "    return ' '.join(plaintext_words)\n",
    "    \n",
    "\n",
    "coefficients: Coefficients = (5, 9)\n",
    "keyspace: Keyspace = list(string.ascii_uppercase)\n",
    "\n",
    "c = encrypt(\"CRYPTO IS FUN\", coefficients, keyspace)\n",
    "assert(c == \"TQZGAB XV IFW\")\n",
    "assert(\"CRYPTO IS FUN\" == decrypt(c, coefficients, keyspace))"
   ]
  },
  {
   "cell_type": "markdown",
   "metadata": {},
   "source": [
    "## 1d\n",
    "\n",
    "> Eve has the ciphertext “QJKES REOGH GXXRE OXEO”. She magically knows the cipher is an affine cipher and the letter T is encrypted to H and O to E. Recover the decryption function and decipher the message. Students shall solve it manually first and then use code to solve it. They both shall give the same results. The code shall be more general, not just in this case."
   ]
  },
  {
   "cell_type": "code",
   "execution_count": 37,
   "metadata": {},
   "outputs": [
    {
     "name": "stdout",
     "output_type": "stream",
     "text": [
      "3 2 WLUSO FSEKT KHHFS EHSE\n"
     ]
    }
   ],
   "source": [
    "ciphertext = \"QJKES REOGH GXXRE OXEO\"\n",
    "O_indicies = [idx for idx, c in enumerate(ciphertext) if c == \"O\"]\n",
    "H_indicies = [idx for idx, c in enumerate(ciphertext) if c == \"H\"]\n",
    "\n",
    "for a in range(len(keyspace)):\n",
    "    for b in range(len(keyspace)):\n",
    "        try:\n",
    "            plaintext = decrypt(ciphertext, (a, b), keyspace)\n",
    "            assert(all(\n",
    "                [plaintext[idx] == \"E\" for idx in O_indicies]\n",
    "            ))\n",
    "            assert(all(\n",
    "                [plaintext[idx] == \"T\" for idx in H_indicies]\n",
    "            ))\n",
    "\n",
    "            print(a, b, plaintext)\n",
    "\n",
    "        except (AssertionError, ValueError) as e:\n",
    "            pass\n",
    "\n",
    "assert(\n",
    "    \"WLUSO FSEKT KHHFS EHSE\" == decrypt(ciphertext, (3, 2), keyspace)\n",
    ")"
   ]
  },
  {
   "cell_type": "markdown",
   "metadata": {},
   "source": [
    "## 1e\n",
    "\n",
    "> What is the affine formula if we want to include the space and little letter case in the encde set?\n",
    "\n",
    "$$\n",
    "n = \\lvert \\{A, \\dots, Z\\} \\cup \\{a, \\dots, z\\} \\cup \\{ \\text{ } \\} \\rvert = 53 \\\\\n",
    "E = (ap + b)\\mod{n} \\\\\n",
    "D = a^{-1}(p - b)\\mod{n}\n",
    "$$"
   ]
  },
  {
   "cell_type": "markdown",
   "metadata": {},
   "source": [
    "# Problem 2 Frequency Analysis\n",
    "\n",
    "> Alice uses a simple substitution cipher to send her message to Bob. It reads as “TNFOS FOZSW PZLOC GQAOZ WAGQR PJZPN ABCZP QDOGR AMTHA RAXTB AGZJO GMTHA RAVAP ZW”. Space is treated as is. Eve gets the ciphertext and she also heard the word “liberty” appears in the plaintext."
   ]
  },
  {
   "cell_type": "markdown",
   "metadata": {},
   "source": [
    "## 2a\n",
    "\n",
    "> Describe the substitution cipher."
   ]
  },
  {
   "cell_type": "markdown",
   "metadata": {},
   "source": [
    "## 2b\n",
    "\n",
    "> What is the size of key space"
   ]
  },
  {
   "cell_type": "markdown",
   "metadata": {},
   "source": [
    "## 2c\n",
    "\n",
    "> Use the frequency of English letters as reference to recover the plaintext. We can do it manually. Optionally, we can do it by coding. It is a bit of a challenge. It is doable."
   ]
  },
  {
   "cell_type": "markdown",
   "metadata": {},
   "source": [
    "## 2d\n",
    "\n",
    "> (optional) The following message is from a Vigenère cipher with a 3-letter English keyword: “CTMYR DOIBS RESRR RIJYR EBYLD IYMLC CYQXS RRMLQ FSDXF OWFKT CYJRR IQZSM X”. Recover the plaintext."
   ]
  }
 ],
 "metadata": {
  "kernelspec": {
   "display_name": ".venv",
   "language": "python",
   "name": "python3"
  },
  "language_info": {
   "codemirror_mode": {
    "name": "ipython",
    "version": 3
   },
   "file_extension": ".py",
   "mimetype": "text/x-python",
   "name": "python",
   "nbconvert_exporter": "python",
   "pygments_lexer": "ipython3",
   "version": "3.10.12"
  },
  "orig_nbformat": 4
 },
 "nbformat": 4,
 "nbformat_minor": 2
}
