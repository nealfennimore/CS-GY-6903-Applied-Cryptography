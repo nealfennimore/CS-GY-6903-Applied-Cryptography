{
 "cells": [
  {
   "cell_type": "markdown",
   "metadata": {},
   "source": [
    "# Problem1: Affine Cipher\n",
    "\n",
    "> Affine cipher is a type of monoalphabetic substitution cipher that uses modular arithmetic to encrypt the letters of a message. The mathematical module formula is c = ap + b mod n where input p is plaintext, the output c is the ciphertext, n is a modular integer, a and b are non-negative integers less than n, a and n are relatively prime (to do decryption). We assume all the letters are encoded to unique integers."
   ]
  },
  {
   "cell_type": "markdown",
   "metadata": {},
   "source": [
    "## 1a\n",
    "\n",
    "> Describe affine cipher in more detail\n",
    "\n",
    "For the affine cipher, each letter of an alphabet maps to an integer. The mathematical formula c = ap + b mod n is then applied to each letter individually to produce the ciphertext letter. This process repeats for every letter in the plaintext until the message is complete. For example, A is 0, B is 1, C is 2…, and Z is 25, where mod n=26. The cipher key is represented by a and b, where a must be selected in a way that a and m have no common factors other than 1 (coprime) so that there is a modular multiplicative inverse to decrypt the ciphertext letter successfully. \n",
    "\n",
    "Encryption example:\n",
    "\n",
    "To encrypt the letter “S” using the formula c = ap + b mod n and encryption key of (3,7), we would follow these steps:\n",
    "\n",
    "Find the integer equivalent of the plaintext letter: The integer value of the letter S is 18. \n",
    "\n",
    "The value of a = 3, b = 7, and n = 26. \n",
    "\n",
    "Now, apply the formula, and we get 3 x 18 + 7 = 61. \n",
    "\n",
    "61 mod 26 = 9 (when you divide 61 by 26, you get 2 and a remainder of 9.)\n",
    "\n",
    "9 is the integer equivalent of the letter J. \n",
    "\n",
    "To decrypt the message, the opposite or inverse operation is performed. The formula for decryption is p = a^-1 ( c - b ) mod n. where a^-1 is the modular multiplicative inverse of a modulo n. For instance, if a*x = 1 (mod 26), then x is an inverse of a, and vice versa.\n",
    "\n",
    "To decrypt the letter J back to S (while knowing the encryption key, which is 3 and 7), we would do the following:\n",
    "\n",
    "The formula for decryption is p = a^-1 ( c - b ) mod n.\n",
    "\n",
    "We know that c = 9 (the integer equivalent of J) and b = 7.\n",
    "\n",
    "Calculate the modular multiplicative inverse of a mod n, where (3 * a^-1) mod 26 = 1.\n",
    "\n",
    "Think about a number x mod 26 = 1. That would be 27. And 27 divided by 3 gives you 9. \n",
    "\n",
    "Check: (3*9) mod 26 = 1.\n",
    "\n",
    "Now, plug the numbers in the decryption formula: p = 9 * (9 – 7) mod 26.\n",
    "\n",
    "p = 9 * 2 mod 26\n",
    "\n",
    "p = 18 mod 26 = 18\n",
    "\n",
    "The letter equivalent of 18 is S. \n",
    "\n",
    "As the affine cipher is a form of symmetric encryption where the same key is used for encryption and decryption, traditional methods are not feasible for decryption without knowing the cipher key. We can employ cryptoanalysis techniques such as frequency analysis, known plaintext attacks, brute force, etc., to decrypt the ciphertext when the cipher key is unknown. However, that can be very complex and time-consuming.\n"
   ]
  },
  {
   "cell_type": "markdown",
   "metadata": {},
   "source": [
    "## 1b\n",
    "> What is the size of key space for a fixed integer n? Hint: Use Euler's totient Φ(n)\n",
    "\n",
    "The key space size for a fixed integer n is determined by the number of possible combinations of a and b. Given a number n, the phi function Φ(n) outputs the number of integers that are less than or equal to n, and are relatively prime (or coprime) to n. For example, if we want to find Φ(8), we will count how many integers from 1 to 8 does not share a factor greater than 1, which will be 1, 3, 5, and 7. Therefore, Φ(8) = 4. \n",
    "\n",
    "The size of the key space for a fixed integer n can be calculated with Φ(n) * n, where Φ(n) is the phi function, and n is the modulus that represents the size of the alphabet or character set. \n",
    "To determine the key space for a fixed integer n in the affine cipher, calculate Φ(n) then multiply by n.\n",
    "\n",
    "For example, using n = 26 to represent the English alphabet, Φ(26) = 12. \n",
    "12 x 26 = 312. \n",
    "\n",
    "Therefore, there is a total of 312 possible keys for a fixed integer of n = 26. \n"
   ]
  },
  {
   "cell_type": "markdown",
   "metadata": {},
   "source": [
    "## 1c\n",
    "\n",
    "> Let us assume the plaintext is made of 26 capital letters only. So, the $n=26$. Given the affine cipher $c = 5p + 9 \\mod 26$, what is the ciphertext for the plaintext “CRYPTO IS FUN”. Here we keep space as is\n",
    "\n",
    "The ciphertext is `TQZGAB XV IFW`"
   ]
  },
  {
   "cell_type": "code",
   "execution_count": 35,
   "metadata": {},
   "outputs": [],
   "source": [
    "import string\n",
    "from typing import List, Tuple\n",
    "\n",
    "Coefficients = Tuple[int, int]\n",
    "Keyspace = List[str]\n",
    "\n",
    "def are_relatively_prime(a: int, b: int) -> bool:\n",
    "    if a == 0 or b == 0:\n",
    "        return False\n",
    "    else:\n",
    "        while b != 0:\n",
    "            a, b = b, a % b\n",
    "        return a == 1\n",
    "\n",
    "def check_assertions(n: int, a: int, b: int):\n",
    "    if a < 0 or b < 0 or a >= n or b >= n:\n",
    "        raise ValueError(f'a and b must be non-negative and less than {n}')\n",
    "\n",
    "    if not are_relatively_prime(a, n):\n",
    "        raise ValueError(f'a and n must be relatively prime')\n",
    "\n",
    "def encrypt(plaintext: str, coefficients: Coefficients, keyspace: Keyspace) -> str:\n",
    "    n = len(keyspace)\n",
    "    a, b = coefficients\n",
    "    check_assertions(n, a, b)\n",
    "\n",
    "    plaintext_words: List[str] = plaintext.split(' ')\n",
    "    ciphertext_words: List[str] = []\n",
    "\n",
    "    for word in plaintext_words:\n",
    "        indicies = [ keyspace.index(p) for p in word ]\n",
    "        ciphertext_words.append(\n",
    "            ''.join(keyspace[(a * idx + b) % n] for idx in indicies)\n",
    "        )\n",
    "\n",
    "    return ' '.join(ciphertext_words)\n",
    "\n",
    "def decrypt(ciphertext: str, coefficients: Coefficients, keyspace: Keyspace) -> str:\n",
    "    n = len(keyspace)\n",
    "    a, b = coefficients\n",
    "    check_assertions(n, a, b)\n",
    "    \n",
    "    def inverse(a, n) -> int:\n",
    "        import math\n",
    "\n",
    "        possible = [ a for a in range(n) if math.gcd(a, n) == 1]\n",
    "        for p in possible:\n",
    "            if (a * p) % n == 1:\n",
    "                return p\n",
    "            \n",
    "        raise ValueError(f'No inverse for {a} mod {n}')\n",
    "    \n",
    "    ciphertext_words: List[str] = ciphertext.split(' ')\n",
    "    plaintext_words: List[str] = []\n",
    "    a_inverse = inverse(a, n)\n",
    "\n",
    "    for word in ciphertext_words:\n",
    "        indicies = [ keyspace.index(p) for p in word ]\n",
    "        plaintext_words.append(\n",
    "            ''.join(keyspace[(a_inverse * (idx - b)) % n] for idx in indicies)\n",
    "        )\n",
    "\n",
    "    return ' '.join(plaintext_words)\n",
    "    \n",
    "\n",
    "coefficients: Coefficients = (5, 9)\n",
    "keyspace: Keyspace = list(string.ascii_uppercase)\n",
    "\n",
    "c = encrypt(\"CRYPTO IS FUN\", coefficients, keyspace)\n",
    "assert(c == \"TQZGAB XV IFW\")\n",
    "assert(\"CRYPTO IS FUN\" == decrypt(c, coefficients, keyspace))"
   ]
  },
  {
   "cell_type": "markdown",
   "metadata": {},
   "source": [
    "## 1d\n",
    "\n",
    "> Eve has the ciphertext “QJKES REOGH GXXRE OXEO”. She magically knows the cipher is an affine cipher and the letter T is encrypted to H and O to E. Recover the decryption function and decipher the message. Students shall solve it manually first and then use code to solve it. They both shall give the same results. The code shall be more general, not just in this case."
   ]
  },
  {
   "cell_type": "code",
   "execution_count": 37,
   "metadata": {},
   "outputs": [
    {
     "name": "stdout",
     "output_type": "stream",
     "text": [
      "IFYOU BOWAT ALLBO WLOW\n"
     ]
    }
   ],
   "source": [
    "ciphertext = 'QJKES REOGH GXXRE OXEO'\n",
    "n = len(keyspace)\n",
    "\n",
    "# Find all possible A (since limited to relitively prime numbers with regards to len(keyspace))\n",
    "def get_possible_a() -> List[int]:\n",
    "    possible_a = []\n",
    "    for a in range(n):\n",
    "        if are_relatively_prime(a, n) and a != 1:\n",
    "            possible_a.append(a)\n",
    "\n",
    "    return possible_a\n",
    "\n",
    "def get_a_b(first_plain, first_cipher, second_plain, second_cipher) -> Coefficients:\n",
    "  for a in get_possible_a():\n",
    "      for b in range(n):\n",
    "        first = (a * keyspace.index(first_plain) + b) % n\n",
    "        second = (a * keyspace.index(second_plain) + b) % n\n",
    "        if first == keyspace.index(first_cipher) and second == keyspace.index(second_cipher):\n",
    "            return(a,b)\n",
    "\n",
    "coefficients = get_a_b('T','H','O','E')\n",
    "decrypted = decrypt(ciphertext, coefficients, keyspace)\n",
    "print(decrypted)\n",
    "assert(decrypted == \"IFYOU BOWAT ALLBO WLOW\")"
   ]
  },
  {
   "cell_type": "markdown",
   "metadata": {},
   "source": [
    "## 1e\n",
    "\n",
    "> What is the affine formula if we want to include the space and little letter case in the encde set?\n",
    "\n",
    "$$\n",
    "n = \\lvert \\{A, \\dots, Z\\} \\cup \\{a, \\dots, z\\} \\cup \\{ \\text{ } \\} \\rvert = 53 \\\\\n",
    "E = (ap + b)\\mod{n} \\\\\n",
    "D = a^{-1}(p - b)\\mod{n}\n",
    "$$"
   ]
  },
  {
   "cell_type": "markdown",
   "metadata": {},
   "source": [
    "# Problem 2 Frequency Analysis\n",
    "\n",
    "> Alice uses a simple substitution cipher to send her message to Bob. It reads as “TNFOS FOZSW PZLOC GQAOZ WAGQR PJZPN ABCZP QDOGR AMTHA RAXTB AGZJO GMTHA RAVAP ZW”. Space is treated as is. Eve gets the ciphertext and she also heard the word “liberty” appears in the plaintext."
   ]
  },
  {
   "cell_type": "markdown",
   "metadata": {},
   "source": [
    "## 2a\n",
    "\n",
    "> Describe the substitution cipher."
   ]
  },
  {
   "cell_type": "markdown",
   "metadata": {},
   "source": [
    "## 2b\n",
    "\n",
    "> What is the size of key space\n",
    "\n",
    "The size of the key space in a substitution cipher is the number of possible permutations of the alphabet. For example, there are 26 letters in the English alphabet, to calculate the size of the key space for this, we can use the factorial function. \n",
    "The key space size calculated with 26!, which is the product of all positive integers from 1 to 26:\n",
    "\n",
    "26! = 26 × 25 × ... × 3 × 2 × 1\n",
    "\n",
    "Therefore, the size of the key space for a simple substitution cipher is approximately 4 x 10^26, or 88-bit. \n"
   ]
  },
  {
   "cell_type": "markdown",
   "metadata": {},
   "source": [
    "## 2c\n",
    "\n",
    "> Use the frequency of English letters as reference to recover the plaintext. We can do it manually. Optionally, we can do it by coding. It is a bit of a challenge. It is doable."
   ]
  },
  {
   "cell_type": "markdown",
   "metadata": {},
   "source": [
    "The plaintext is `know notwh atcou rseot hersm aytak ebuta sform egive melib ertyo rgive medea th` i.e. _know not what course others may take but as for me give me liberty or give me death_"
   ]
  },
  {
   "cell_type": "code",
   "execution_count": 2,
   "metadata": {},
   "outputs": [
    {
     "name": "stdout",
     "output_type": "stream",
     "text": [
      "Potential:  NFrS FrtSy PtLrl ibert yeibR PJtPN eBltP bDriR eMTHe ReXTB eitJr iMTHe ReVeP ty\n",
      "Potential:  NFOS FOtSW PtLOC rQeOt WerQR PytPN ebCtP QDOrR eMiHe Relib ertyO rMiHe ReVeP tW\n"
     ]
    }
   ],
   "source": [
    "from typing import List, Tuple\n",
    "\n",
    "ciphertext = \"NFOS FOZSW PZLOC GQAOZ WAGQR PJZPN ABCZP QDOGR AMTHA RAXTB AGZJO GMTHA RAVAP ZW\"\n",
    "ciphertext_condensed = ciphertext.replace(' ', '')\n",
    "known_word = 'LIBERTY'\n",
    "known_word_chars = set([*known_word])\n",
    "known_word_length = len(known_word)\n",
    "\n",
    "english_letter_frequency = {\n",
    "    'E' : 12.0,\n",
    "    'T' : 9.10,\n",
    "    'A' : 8.12,\n",
    "    'O' : 7.68,\n",
    "    'I' : 7.31,\n",
    "    'N' : 6.95,\n",
    "    'S' : 6.28,\n",
    "    'R' : 6.02,\n",
    "    'H' : 5.92,\n",
    "    'D' : 4.32,\n",
    "    'L' : 3.98,\n",
    "    'U' : 2.88,\n",
    "    'C' : 2.71,\n",
    "    'M' : 2.61,\n",
    "    'F' : 2.30,\n",
    "    'Y' : 2.11,\n",
    "    'W' : 2.09,\n",
    "    'G' : 2.03,\n",
    "    'P' : 1.82,\n",
    "    'B' : 1.49,\n",
    "    'V' : 1.11,\n",
    "    'K' : 0.69,\n",
    "    'X' : 0.17,\n",
    "    'Q' : 0.11,\n",
    "    'J' : 0.10,\n",
    "    'Z' : 0.07\n",
    "}\n",
    "\n",
    "english_letter_frequency_sorted: List[Tuple[str, float]] = sorted(english_letter_frequency.items(), key=lambda x: x[1], reverse=True)\n",
    "\n",
    "letter_counts = {\n",
    "    k: ciphertext.count(k) for k in set([*ciphertext_condensed])\n",
    "}\n",
    "letter_counts_sorted: List[Tuple[str, int]] = sorted(letter_counts.items(), key=lambda x: x[1], reverse=True)\n",
    "\n",
    "potential_plaintexts = []\n",
    "\n",
    "# Find potential slice where 'LIBERTY' could be\n",
    "for i in range(len(ciphertext_condensed) - len(known_word) + 1):\n",
    "    characters = ciphertext_condensed[i:i+known_word_length]\n",
    "    unique_characters = set([*characters])\n",
    "\n",
    "    # 'LIBERTY' could potentially fit here\n",
    "    if len(unique_characters) == len(known_word_chars):\n",
    "\n",
    "        mapping = {k: v for (k, v) in zip(characters, known_word)}\n",
    "\n",
    "        # Most likely when the two most frequent letters in the ciphertext\n",
    "        # are the two most frequent letters in the english language\n",
    "        if mapping.get(letter_counts_sorted[0][0]) == english_letter_frequency_sorted[0][0] and\\\n",
    "            mapping.get(letter_counts_sorted[1][0]) == english_letter_frequency_sorted[1][0]:\n",
    "\n",
    "            output = ciphertext\n",
    "            for k, v in mapping.items():\n",
    "                output = output.replace(k, v.lower())\n",
    "\n",
    "            potential_plaintexts.append(output)\n",
    "\n",
    "\n",
    "\n",
    "# Remove LIBERTY from choices\n",
    "letter_counts_sorted = list(filter(lambda x: x[0] not in known_word, letter_counts_sorted))\n",
    "\n",
    "for p in potential_plaintexts:\n",
    "    print(\"Potential: \", p)\n",
    "\n",
    "# Manually solved below:\n",
    "# ... give me liberty or give me death\n",
    "candidate = \"NFOS FOtSW PtLOC rQeOt WerQR PytPN ebCtP QDOrR eMiHe Relib ertyO rMiHe ReVeP tW\"\n",
    "\n",
    "candidate = candidate \\\n",
    "    .replace('O', 'o') \\\n",
    "    .replace('M', 'g') \\\n",
    "    .replace('H', 'v') \\\n",
    "    .replace('R', 'm') \\\n",
    "    .replace('V', 'd') \\\n",
    "    .replace('P', 'a') \\\n",
    "    .replace('W', 'h') \\\n",
    "    .replace('Q', 's') \\\n",
    "    .replace('N', 'k') \\\n",
    "    .replace('C', 'u') \\\n",
    "    .replace('L', 'c') \\\n",
    "    .replace('S', 'w') \\\n",
    "    .replace('F', 'n') \\\n",
    "    .replace('D', 'f')\n",
    "\n",
    "assert(\n",
    "    # know not what course others may take but as for me give me liberty or give me death\n",
    "    candidate == 'know notwh atcou rseot hersm aytak ebuta sform egive melib ertyo rgive medea th'\n",
    ")\n"
   ]
  },
  {
   "cell_type": "markdown",
   "metadata": {},
   "source": [
    "## 2d\n",
    "\n",
    "> (optional) The following message is from a Vigenère cipher with a 3-letter English keyword: “CTMYR DOIBS RESRR RIJYR EBYLD IYMLC CYQXS RRMLQ FSDXF OWFKT CYJRR IQZSM X”. Recover the plaintext."
   ]
  },
  {
   "cell_type": "markdown",
   "metadata": {},
   "source": [
    "The plaintext is `SPOON FEEDING IN THE LONG RUN TEACHES US NOTHING BUT THE SHAPE OF THE SPOON` with the key being `KEY`"
   ]
  },
  {
   "cell_type": "code",
   "execution_count": 45,
   "metadata": {},
   "outputs": [
    {
     "name": "stdout",
     "output_type": "stream",
     "text": [
      "('G', 'D', 'Y') WQOSOFIFDMOGMOTLFLSOGVVNXFAGIEWVSRPTLJNKCUXUHITHEQESGTLFSTPOR\n",
      "('H', 'E', 'K') VPCRNTHERLNULNHKEZRNUUUBWEOFHSVUGQOHKIBJBIWTVHSVDPSRFHKEGSOCQ\n",
      "('K', 'E', 'Y') SPOONFEEDINGINTHELONGRUNTEACHESUSNOTHINGBUTTHESHAPEOFTHESPOON\n",
      "('L', 'N', 'I') RGENEVDVTHEWHEJGVBNEWQLDSVQBYURLIMFJGZDFSKSKXDJXZGUNWJGVIOFEM\n",
      "('L', 'N', 'L') RGBNESDVQHETHEGGVYNETQLASVNBYRRLFMFGGZAFSHSKUDJUZGRNWGGVFOFBM\n",
      "('T', 'E', 'Y') JPOFNFVEDZNGZNTYELFNGIUNKEATHEJUSEOTYINXBUKTHVSHRPEFFTYESGOOE\n",
      "('U', 'P', 'C') IEKECBUTZYCCYCPXTHECCHJJJTWSWAIJODDPXXJWQQJIDUHDQEAEUPXTOFDKD\n",
      "('U', 'U', 'L') IZBEXSUOQYXTYXGXOYEXTHEAJONSRRIEFDYGXSAWLHJDUUCUQZREPGXOFFYBD\n",
      "('X', 'Y', 'O') FVYBTPRKNVTQVTDUKVBTQEAXGKKPNOFACAUDUOXTHEGZRRYRNVOBLDUKCCUYA\n",
      "('Y', 'F', 'H') EOFAMWQDUUMXUMKTDCAMXDTEFDROGVETJZNKTHESALFSYQRYMOVAEKTDJBNFZ\n"
     ]
    }
   ],
   "source": [
    "from itertools import product\n",
    "from string import ascii_uppercase\n",
    "\n",
    "ciphertext = \"CTMYR DOIBS RESRR RIJYR EBYLD IYMLC CYQXS RRMLQ FSDXF OWFKT CYJRR IQZSM X\"\n",
    "ciphertext_condensed = ciphertext.replace(' ', '')\n",
    "\n",
    "def decrypt(ciphertext: str, key: str) -> str:\n",
    "    plaintext: List[str] = []\n",
    "\n",
    "    for idx, c in enumerate(ciphertext):\n",
    "        p = (ord(c) - ord(key[idx % len(key)])) % 26\n",
    "        p += ord('A')\n",
    "        plaintext.append(chr(p))\n",
    "\n",
    "    return ''.join(plaintext)\n",
    "\n",
    "for key in product(ascii_uppercase, repeat=3):\n",
    "    plaintext = decrypt(ciphertext_condensed, ''.join(key))\n",
    "    # See if the two most common words in the english language are in the plaintext\n",
    "    # This limits the number of keys down to 10\n",
    "    if \"THE\" in plaintext and \"OF\" in plaintext:\n",
    "        print(key, plaintext)\n",
    "\n",
    "# Manually solved below:\n",
    "# SPOON FEEDING IN THE LONG RUN TEACHES US NOTHING BUT THE SHAPE OF THE SPOON\n",
    "assert(\n",
    "    \"SPOONFEEDINGINTHELONGRUNTEACHESUSNOTHINGBUTTHESHAPEOFTHESPOON\" == decrypt(ciphertext_condensed, 'KEY')\n",
    ")\n"
   ]
  }
 ],
 "metadata": {
  "kernelspec": {
   "display_name": ".venv",
   "language": "python",
   "name": "python3"
  },
  "language_info": {
   "codemirror_mode": {
    "name": "ipython",
    "version": 3
   },
   "file_extension": ".py",
   "mimetype": "text/x-python",
   "name": "python",
   "nbconvert_exporter": "python",
   "pygments_lexer": "ipython3",
   "version": "3.10.12"
  },
  "orig_nbformat": 4
 },
 "nbformat": 4,
 "nbformat_minor": 2
}
