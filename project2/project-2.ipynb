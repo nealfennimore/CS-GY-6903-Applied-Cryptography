{
 "cells": [
  {
   "cell_type": "markdown",
   "metadata": {},
   "source": [
    "# Problem 1\n",
    "\n",
    "> Describe the main components of a typical enigma machine."
   ]
  },
  {
   "cell_type": "markdown",
   "metadata": {},
   "source": [
    "# Problem 2\n",
    "\n",
    "> What is the size of the key space?"
   ]
  },
  {
   "cell_type": "code",
   "execution_count": 24,
   "metadata": {},
   "outputs": [
    {
     "name": "stdout",
     "output_type": "stream",
     "text": [
      "UPS\n"
     ]
    }
   ],
   "source": [
    "from enigma.rotors.rotor import Rotor\n",
    "from enigma.plugboard import Plugboard\n",
    "from enigma.machine import EnigmaMachine\n",
    "\n",
    "\"\"\"\n",
    "During the war, Enigma machine operators re-configured their machines every day according to a code book, or key sheet, to help increase security. Each key sheet contained daily Enigma settings for one month. Before transmitting the first message of the day, the operator looked up the current day on the key sheet for the given month nd configured the machine accordingly.\n",
    "\"\"\"\n",
    "\n",
    "\"\"\"\n",
    "When calling the Rotor constructor directly, the internal wiring is specified as a 26-character long string which specifies the cipher substitution. This notation is consistent with several online sources of Enigma information\n",
    "\n",
    "`wiring` this should be a string of 26 uppercase characters A-Z that represent the internal wiring transformation of the signal as it enters from the right side. This is the format used in various online resources. For example, for the Wehrmacht Enigma type I rotor the mapping is \"EKMFLGDQVZNTOWYHXUSPAIBRCJ\"\n",
    "\n",
    "`ring_setting` arguments are 0-based integers (0-25). his should be an integer from 0-25, inclusive, which indicates the Ringstellung. A value of 0 means there is no offset; e.g. the letter A is fixed to pin 0. A value of 1 means B is mapped to pin 0\n",
    "\n",
    "`stepping` arguments specify when rotors turn their neighbor. This is the stepping or turnover parameter. When it is an iterable, for example a string such as “Q”, this indicates that when the rotor transitions from “Q” to “R” (by observing the operator window), the rotor will “kick” the rotor to its left, causing it to rotate.\n",
    "\n",
    "If the rotor has more than one notch, a string of length 2 could be used, e.g. “ZM”. Another\n",
    "way to think of this parameter is that when a character in the stepping string is visible in\n",
    "the operator window, a notch is lined up with the pawl on the left side of the rotor. This\n",
    "will allow the pawl to push up on the rotor and the rotor to the left when the next key is\n",
    "depressed. A value of None means this rotor does not rotate.\n",
    "\"\"\"\n",
    "rL = Rotor('my rotor1', 'EKMFLGDQVZNTOWYHXUSPAIBRCJ', ring_setting=0, stepping='Q')\n",
    "rM = Rotor('my rotor2', 'BDFHJLCPRTXVZNYEIWGAKMUSQO', ring_setting=5, stepping='V')\n",
    "rR = Rotor('my rotor3', 'ESOVPZJAYQUIRHXLNFTGKDCMWB', ring_setting=10, stepping='J')\n",
    "\n",
    "\"\"\"\n",
    " Reflectors are simulated as rotors that have no ring setting or stepping capability\n",
    " If you decide to create your own reflector, and you desire to maintain reciprocal encryption & decryption (a fundamental characteristic of war-time Enigma machines), your connections must be made in pairs. Thus if you wire 'A' to 'G', you must also wire 'G' to 'A', and so on.\n",
    "\"\"\"\n",
    "reflector = Rotor('my reflector', 'YRUHQSLDPXNGOKMIEBFZCWVJAT')\n",
    "\n",
    "\"\"\"\n",
    "The plugboard, or Steckerbrett in German, allows the operator to swap up to 10 keys and indicator lamps for increased key strength. Plugboards have little use on their own.\n",
    "\"\"\"\n",
    "pb = Plugboard.from_key_sheet('AK BZ CG DL FU HJ MX NR OY PW')\n",
    "\n",
    "#  the rotor assignment is specified by a list of rotors where order specifies the left-to-right order in the machine\n",
    "machine = EnigmaMachine([rL, rM, rR], reflector, pb)\n",
    "\n",
    "# must have one uppercase letter per rotor in your machine. In this example, we are setting the leftmost rotor to ‘U’, the middle rotor to ‘P’, and the rightmost rotor to ‘S’.\n",
    "machine.set_display('UPS') # set initial rotor positions\n",
    "print(machine.get_display()) # read rotor position\n",
    "\n",
    "# Encrypt a letter\n",
    "# print(machine.key_press('C'))\n",
    "# Encrypt a text\n",
    "# print(machine.process_text('Enigma machine is powerful for Q'))\n"
   ]
  },
  {
   "cell_type": "code",
   "execution_count": 59,
   "metadata": {},
   "outputs": [],
   "source": [
    "from typing import Tuple\n",
    "import re\n",
    "\n",
    "MessageKey = str\n",
    "EncryptionKey = str\n",
    "CipherText = str\n",
    "PlainText = str\n",
    "EncryptionPayload = Tuple[EncryptionKey, CipherText]\n",
    "DecryptionPayload = Tuple[MessageKey, PlainText]\n",
    "\n",
    "three_uppercase_letters = re.compile(r'^[A-Z]{3}$')\n",
    "is_three_uppercase_letters = lambda x: bool(three_uppercase_letters.search(x))\n",
    "\n",
    "def encrypt(initial_rotor_position: str, payload: DecryptionPayload) -> EncryptionPayload:\n",
    "    message_key, plaintext = payload\n",
    "\n",
    "    assert(is_three_uppercase_letters(initial_rotor_position))\n",
    "    assert(is_three_uppercase_letters(message_key))\n",
    "\n",
    "    machine.set_display(initial_rotor_position)\n",
    "    enc_key =  machine.process_text(message_key)\n",
    "\n",
    "    machine.set_display(message_key)\n",
    "    ciphertext = machine.process_text(plaintext)\n",
    "\n",
    "    return (enc_key, ciphertext)\n",
    "\n",
    "def decrypt(initial_rotor_position: str, payload: EncryptionPayload) -> DecryptionPayload:\n",
    "    assert(is_three_uppercase_letters(initial_rotor_position))\n",
    "\n",
    "    enc_key, ciphertext = payload\n",
    "    assert(is_three_uppercase_letters(enc_key))\n",
    "\n",
    "    machine.set_display(initial_rotor_position)\n",
    "    message_key = machine.process_text(enc_key)\n",
    "\n",
    "    assert(is_three_uppercase_letters(message_key))\n",
    "\n",
    "    machine.set_display(message_key)\n",
    "\n",
    "    plaintext = machine.process_text(ciphertext)\n",
    "    return (message_key, plaintext)\n",
    "    \n",
    "\n",
    "encrypted_payload = encrypt('UPS', ('ABC', 'ENIGMA'))\n",
    "decrypted_payload = decrypt('UPS', encrypted_payload)\n",
    "\n",
    "assert(\n",
    "    decrypted_payload == ('ABC', 'ENIGMA')\n",
    ")\n"
   ]
  },
  {
   "cell_type": "markdown",
   "metadata": {},
   "source": [
    "# Problem 3\n",
    "\n",
    "> Explain the flow of the code and map the settings to the components mentioned in Problem 1. "
   ]
  },
  {
   "cell_type": "markdown",
   "metadata": {},
   "source": [
    "# Problem 4\n",
    "\n",
    "> Learning by testing. Test the code with at least 7 various keys (change of wiring, ring_setting, stepping, reflector, with or without plugboard, initial display position, etc."
   ]
  },
  {
   "cell_type": "markdown",
   "metadata": {},
   "source": [
    "# Problem 5\n",
    "\n",
    ">  Pick one of the ciphertext and decrypt it. Do we need to write another code for that?"
   ]
  },
  {
   "cell_type": "markdown",
   "metadata": {},
   "source": [
    "# Problem 6\n",
    "\n",
    "> Time for fun. Same setting as given in the sample code, but folks at Bletchley Park want to know the initial position (display). They had a ciphertext “WVUVJCSQBFLWSGTHDREWOSXYIAYEUBHHXY” from known plaintext “ATTACK AT 5PM AT ATLANTIC Z ISLAND”. Code and find the init display."
   ]
  },
  {
   "cell_type": "markdown",
   "metadata": {},
   "source": [
    "The message key is `NYU` and the initial rotor position is `UPS` as previous mentioned. There are also numerous other combinations which will successfully decrypt the same message."
   ]
  },
  {
   "cell_type": "code",
   "execution_count": 60,
   "metadata": {},
   "outputs": [
    {
     "name": "stdout",
     "output_type": "stream",
     "text": [
      "('NYU', 'ATTACKXATXXPMXATXATLANTICXZXISLAND') UPS DSM\n"
     ]
    }
   ],
   "source": [
    "from typing import Optional\n",
    "from itertools import product\n",
    "from string import ascii_uppercase\n",
    "\n",
    "ciphertext = \"WVUVJCSQBFLWSGTHDREWOSXYIAYEUBHHXY\"\n",
    "plaintext = \"ATTACK AT 5PM AT ATLANTIC Z ISLAND\"\n",
    "\n",
    "initial_rotor_position: str = 'UPS'\n",
    "message_key: Optional[MessageKey] = None\n",
    "\n",
    "for enc_key in product(ascii_uppercase, repeat=3):\n",
    "    decrypted_payload = decrypt(initial_rotor_position, (''.join(enc_key), ciphertext))\n",
    "    if decrypted_payload[1].startswith('ATTACK'):\n",
    "        message_key, _ = decrypted_payload\n",
    "        print(decrypted_payload, initial_rotor_position, ''.join(enc_key))\n",
    "        break\n",
    "\n",
    "assert(message_key is not None)\n",
    "\n",
    "encrypted_payload = encrypt(initial_rotor_position, (message_key, plaintext))\n",
    "decrypted_payload = decrypt(initial_rotor_position, encrypted_payload)\n",
    "\n",
    "assert(\n",
    "    message_key == 'NYU' and decrypted_payload[0] == 'NYU'\n",
    ")\n",
    "\n",
    "assert(\n",
    "    decrypted_payload[1] == 'ATTACKXATXXPMXATXATLANTICXZXISLAND'\n",
    ")\n",
    "\n",
    "assert(\n",
    "    encrypt(initial_rotor_position, decrypted_payload) == encrypted_payload\n",
    ")"
   ]
  },
  {
   "cell_type": "markdown",
   "metadata": {},
   "source": [
    "# Problem 7\n",
    "\n",
    "> (optional) Same enigma machine given by the sample code. We had the ciphertext   “YNLIUNHBNVERXKRBUHZEYMJVEZNRPNWOSV” from known plaintext “ATTACK AT 5PM AT ATLANTIC Z ISLAND”. Recover as much of the stecker settings as it possible from the known plaintext.\n"
   ]
  }
 ],
 "metadata": {
  "kernelspec": {
   "display_name": ".venv",
   "language": "python",
   "name": "python3"
  },
  "language_info": {
   "codemirror_mode": {
    "name": "ipython",
    "version": 3
   },
   "file_extension": ".py",
   "mimetype": "text/x-python",
   "name": "python",
   "nbconvert_exporter": "python",
   "pygments_lexer": "ipython3",
   "version": "3.10.12"
  },
  "orig_nbformat": 4
 },
 "nbformat": 4,
 "nbformat_minor": 2
}
