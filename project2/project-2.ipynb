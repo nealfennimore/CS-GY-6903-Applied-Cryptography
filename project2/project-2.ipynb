{
 "cells": [
  {
   "cell_type": "markdown",
   "metadata": {},
   "source": [
    "# Problem 1\n",
    "\n",
    "> Describe the main components of a typical enigma machine."
   ]
  },
  {
   "cell_type": "markdown",
   "metadata": {},
   "source": [
    "# Problem 2\n",
    "\n",
    "> What is the size of the key space?"
   ]
  },
  {
   "cell_type": "markdown",
   "metadata": {},
   "source": [
    "# Problem 3\n",
    "\n",
    "> Explain the flow of the code and map the settings to the components mentioned in Problem 1. "
   ]
  },
  {
   "cell_type": "markdown",
   "metadata": {},
   "source": [
    "# Problem 4\n",
    "\n",
    "> Learning by testing. Test the code with at least 7 various keys (change of wiring, ring_setting, stepping, reflector, with or without plugboard, initial display position, etc."
   ]
  },
  {
   "cell_type": "markdown",
   "metadata": {},
   "source": [
    "# Problem 5\n",
    "\n",
    ">  Pick one of the ciphertext and decrypt it. Do we need to write another code for that?"
   ]
  },
  {
   "cell_type": "markdown",
   "metadata": {},
   "source": [
    "# Problem 6\n",
    "\n",
    "> Time for fun. Same setting as given in the sample code, but folks at Bletchley Park want to know the initial position (display). They had a ciphertext “WVUVJCSQBFLWSGTHDREWOSXYIAYEUBHHXY” from known plaintext “ATTACK AT 5PM AT ATLANTIC Z ISLAND”. Code and find the init display."
   ]
  },
  {
   "cell_type": "markdown",
   "metadata": {},
   "source": [
    "# Problem 7\n",
    "\n",
    "> (optional) Same enigma machine given by the sample code. We had the ciphertext   “YNLIUNHBNVERXKRBUHZEYMJVEZNRPNWOSV” from known plaintext “ATTACK AT 5PM AT ATLANTIC Z ISLAND”. Recover as much of the stecker settings as it possible from the known plaintext.\n"
   ]
  }
 ],
 "metadata": {
  "language_info": {
   "name": "python"
  },
  "orig_nbformat": 4
 },
 "nbformat": 4,
 "nbformat_minor": 2
}
